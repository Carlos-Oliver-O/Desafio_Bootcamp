{
 "cells": [
  {
   "cell_type": "code",
   "execution_count": 5,
   "metadata": {},
   "outputs": [
    {
     "name": "stdout",
     "output_type": "stream",
     "text": [
      "Requirement already satisfied: google-api-python-client in /Users/carlosoliver/miniconda3/envs/CALENDAR-ENV/lib/python3.10/site-packages (2.134.0)\n",
      "Requirement already satisfied: google-auth-httplib2 in /Users/carlosoliver/miniconda3/envs/CALENDAR-ENV/lib/python3.10/site-packages (0.2.0)\n",
      "Requirement already satisfied: google-auth-oauthlib in /Users/carlosoliver/miniconda3/envs/CALENDAR-ENV/lib/python3.10/site-packages (1.2.0)\n",
      "Requirement already satisfied: httplib2<1.dev0,>=0.19.0 in /Users/carlosoliver/miniconda3/envs/CALENDAR-ENV/lib/python3.10/site-packages (from google-api-python-client) (0.22.0)\n",
      "Requirement already satisfied: google-auth!=2.24.0,!=2.25.0,<3.0.0.dev0,>=1.32.0 in /Users/carlosoliver/miniconda3/envs/CALENDAR-ENV/lib/python3.10/site-packages (from google-api-python-client) (2.30.0)\n",
      "Requirement already satisfied: google-api-core!=2.0.*,!=2.1.*,!=2.2.*,!=2.3.0,<3.0.0.dev0,>=1.31.5 in /Users/carlosoliver/miniconda3/envs/CALENDAR-ENV/lib/python3.10/site-packages (from google-api-python-client) (2.19.0)\n",
      "Requirement already satisfied: uritemplate<5,>=3.0.1 in /Users/carlosoliver/miniconda3/envs/CALENDAR-ENV/lib/python3.10/site-packages (from google-api-python-client) (4.1.1)\n",
      "Requirement already satisfied: requests-oauthlib>=0.7.0 in /Users/carlosoliver/miniconda3/envs/CALENDAR-ENV/lib/python3.10/site-packages (from google-auth-oauthlib) (2.0.0)\n",
      "Requirement already satisfied: googleapis-common-protos<2.0.dev0,>=1.56.2 in /Users/carlosoliver/miniconda3/envs/CALENDAR-ENV/lib/python3.10/site-packages (from google-api-core!=2.0.*,!=2.1.*,!=2.2.*,!=2.3.0,<3.0.0.dev0,>=1.31.5->google-api-python-client) (1.63.1)\n",
      "Requirement already satisfied: protobuf!=3.20.0,!=3.20.1,!=4.21.0,!=4.21.1,!=4.21.2,!=4.21.3,!=4.21.4,!=4.21.5,<5.0.0.dev0,>=3.19.5 in /Users/carlosoliver/miniconda3/envs/CALENDAR-ENV/lib/python3.10/site-packages (from google-api-core!=2.0.*,!=2.1.*,!=2.2.*,!=2.3.0,<3.0.0.dev0,>=1.31.5->google-api-python-client) (4.25.3)\n",
      "Requirement already satisfied: proto-plus<2.0.0dev,>=1.22.3 in /Users/carlosoliver/miniconda3/envs/CALENDAR-ENV/lib/python3.10/site-packages (from google-api-core!=2.0.*,!=2.1.*,!=2.2.*,!=2.3.0,<3.0.0.dev0,>=1.31.5->google-api-python-client) (1.24.0)\n",
      "Requirement already satisfied: requests<3.0.0.dev0,>=2.18.0 in /Users/carlosoliver/miniconda3/envs/CALENDAR-ENV/lib/python3.10/site-packages (from google-api-core!=2.0.*,!=2.1.*,!=2.2.*,!=2.3.0,<3.0.0.dev0,>=1.31.5->google-api-python-client) (2.32.3)\n",
      "Requirement already satisfied: cachetools<6.0,>=2.0.0 in /Users/carlosoliver/miniconda3/envs/CALENDAR-ENV/lib/python3.10/site-packages (from google-auth!=2.24.0,!=2.25.0,<3.0.0.dev0,>=1.32.0->google-api-python-client) (5.3.3)\n",
      "Requirement already satisfied: pyasn1-modules>=0.2.1 in /Users/carlosoliver/miniconda3/envs/CALENDAR-ENV/lib/python3.10/site-packages (from google-auth!=2.24.0,!=2.25.0,<3.0.0.dev0,>=1.32.0->google-api-python-client) (0.4.0)\n",
      "Requirement already satisfied: rsa<5,>=3.1.4 in /Users/carlosoliver/miniconda3/envs/CALENDAR-ENV/lib/python3.10/site-packages (from google-auth!=2.24.0,!=2.25.0,<3.0.0.dev0,>=1.32.0->google-api-python-client) (4.9)\n",
      "Requirement already satisfied: pyparsing!=3.0.0,!=3.0.1,!=3.0.2,!=3.0.3,<4,>=2.4.2 in /Users/carlosoliver/miniconda3/envs/CALENDAR-ENV/lib/python3.10/site-packages (from httplib2<1.dev0,>=0.19.0->google-api-python-client) (3.1.2)\n",
      "Requirement already satisfied: oauthlib>=3.0.0 in /Users/carlosoliver/miniconda3/envs/CALENDAR-ENV/lib/python3.10/site-packages (from requests-oauthlib>=0.7.0->google-auth-oauthlib) (3.2.2)\n",
      "Requirement already satisfied: pyasn1<0.7.0,>=0.4.6 in /Users/carlosoliver/miniconda3/envs/CALENDAR-ENV/lib/python3.10/site-packages (from pyasn1-modules>=0.2.1->google-auth!=2.24.0,!=2.25.0,<3.0.0.dev0,>=1.32.0->google-api-python-client) (0.6.0)\n",
      "Requirement already satisfied: charset-normalizer<4,>=2 in /Users/carlosoliver/miniconda3/envs/CALENDAR-ENV/lib/python3.10/site-packages (from requests<3.0.0.dev0,>=2.18.0->google-api-core!=2.0.*,!=2.1.*,!=2.2.*,!=2.3.0,<3.0.0.dev0,>=1.31.5->google-api-python-client) (3.3.2)\n",
      "Requirement already satisfied: idna<4,>=2.5 in /Users/carlosoliver/miniconda3/envs/CALENDAR-ENV/lib/python3.10/site-packages (from requests<3.0.0.dev0,>=2.18.0->google-api-core!=2.0.*,!=2.1.*,!=2.2.*,!=2.3.0,<3.0.0.dev0,>=1.31.5->google-api-python-client) (3.7)\n",
      "Requirement already satisfied: urllib3<3,>=1.21.1 in /Users/carlosoliver/miniconda3/envs/CALENDAR-ENV/lib/python3.10/site-packages (from requests<3.0.0.dev0,>=2.18.0->google-api-core!=2.0.*,!=2.1.*,!=2.2.*,!=2.3.0,<3.0.0.dev0,>=1.31.5->google-api-python-client) (2.2.2)\n",
      "Requirement already satisfied: certifi>=2017.4.17 in /Users/carlosoliver/miniconda3/envs/CALENDAR-ENV/lib/python3.10/site-packages (from requests<3.0.0.dev0,>=2.18.0->google-api-core!=2.0.*,!=2.1.*,!=2.2.*,!=2.3.0,<3.0.0.dev0,>=1.31.5->google-api-python-client) (2024.6.2)\n",
      "Note: you may need to restart the kernel to use updated packages.\n"
     ]
    }
   ],
   "source": [
    "#pip install google-api-python-client google-auth-httplib2 google-auth-oauthlib"
   ]
  },
  {
   "cell_type": "code",
   "execution_count": 5,
   "metadata": {},
   "outputs": [
    {
     "name": "stdout",
     "output_type": "stream",
     "text": [
      "Please visit this URL to authorize this application: https://accounts.google.com/o/oauth2/auth?response_type=code&client_id=590179891425-1709mbemigm7r65luin6ekslnbfjc7v1.apps.googleusercontent.com&redirect_uri=http%3A%2F%2Flocalhost%3A56608%2F&scope=https%3A%2F%2Fwww.googleapis.com%2Fauth%2Fcalendar&state=Us91sZCksZmr0RRawcMhIsT1arMUX1&access_type=offline\n"
     ]
    }
   ],
   "source": [
    "import os.path\n",
    "from google.auth.transport.requests import Request\n",
    "from google.oauth2.credentials import Credentials\n",
    "from google_auth_oauthlib.flow import InstalledAppFlow\n",
    "from googleapiclient.discovery import build\n",
    "\n",
    "\n"
   ]
  },
  {
   "cell_type": "code",
   "execution_count": 6,
   "metadata": {},
   "outputs": [
    {
     "name": "stdout",
     "output_type": "stream",
     "text": [
      "Event created: https://www.google.com/calendar/event?eid=cnZuZTZqaHVmbGJjZWVudjg4amplZTcyODAgZ3J1cG8yZGVzYWZpb2RldHJpcHVAbQ\n"
     ]
    }
   ],
   "source": [
    "def get_availability(service, attendees, start_time, end_time):\n",
    "    body = {\n",
    "        \"timeMin\": start_time,\n",
    "        \"timeMax\": end_time,\n",
    "        \"timeZone\": \"UTC\",\n",
    "        \"items\": [{\"id\": attendee} for attendee in attendees]\n",
    "    }\n",
    "    eventsResult = service.freebusy().query(body=body).execute()\n",
    "    return eventsResult['calendars']"
   ]
  },
  {
   "cell_type": "code",
   "execution_count": null,
   "metadata": {},
   "outputs": [],
   "source": [
    "def find_best_time(service, attendees, date):\n",
    "    possible_times = [(datetime.datetime(date.year, date.month, date.day, hour, 0), \n",
    "                       datetime.datetime(date.year, date.month, date.day, hour+1, 0)) \n",
    "                      for hour in range(9, 17)]\n",
    "    \n",
    "    best_time = None\n",
    "    max_availability = 0\n",
    "    \n",
    "    for start, end in possible_times:\n",
    "        start_iso = start.isoformat() + 'Z'\n",
    "        end_iso = end.isoformat() + 'Z'\n",
    "        availability = get_availability(service, attendees, start_iso, end_iso)\n",
    "        \n",
    "        available_count = sum(1 for cal in availability.values() if not cal['busy'])\n",
    "        \n",
    "        if available_count > max_availability:\n",
    "            max_availability = available_count\n",
    "            best_time = (start, end)\n",
    "    \n",
    "    return best_time\n",
    "\n"
   ]
  },
  {
   "cell_type": "code",
   "execution_count": null,
   "metadata": {},
   "outputs": [],
   "source": [
    "def create_event(service, attendees, best_time):\n",
    "    event = {\n",
    "        'summary': 'Reunión',\n",
    "        'location': 'Virtual',\n",
    "        'description': 'Reunión para discutir el proyecto.',\n",
    "        'start': {\n",
    "            'dateTime': best_time[0].isoformat(),\n",
    "            'timeZone': 'UTC',\n",
    "        },\n",
    "        'end': {\n",
    "            'dateTime': best_time[1].isoformat(),\n",
    "            'timeZone': 'UTC',\n",
    "        },\n",
    "        'attendees': [{'email': attendee} for attendee in attendees],\n",
    "        'reminders': {\n",
    "            'useDefault': False,\n",
    "            'overrides': [\n",
    "                {'method': 'email', 'minutes': 24 * 60},\n",
    "                {'method': 'popup', 'minutes': 10},\n",
    "            ],\n",
    "        },\n",
    "    }\n",
    "    event = service.events().insert(calendarId='primary', body=event).execute()\n",
    "    print('Event created: %s' % (event.get('htmlLink')))\n",
    "\n"
   ]
  },
  {
   "cell_type": "code",
   "execution_count": null,
   "metadata": {},
   "outputs": [],
   "source": [
    "attendees = ['email1@example.com', 'email2@example.com', 'email3@example.com']\n",
    "date = datetime.datetime(2024, 7, 20)\n",
    "\n",
    "best_time = find_best_time(service, attendees, date)\n",
    "\n",
    "if best_time:\n",
    "    create_event(service, attendees, best_time)\n",
    "else:\n",
    "    print(\"No suitable time found for the meeting.\")"
   ]
  },
  {
   "cell_type": "code",
   "execution_count": null,
   "metadata": {},
   "outputs": [],
   "source": []
  },
  {
   "cell_type": "code",
   "execution_count": null,
   "metadata": {},
   "outputs": [],
   "source": []
  },
  {
   "cell_type": "code",
   "execution_count": null,
   "metadata": {},
   "outputs": [],
   "source": []
  },
  {
   "cell_type": "code",
   "execution_count": null,
   "metadata": {},
   "outputs": [],
   "source": []
  },
  {
   "cell_type": "code",
   "execution_count": null,
   "metadata": {},
   "outputs": [],
   "source": []
  },
  {
   "cell_type": "code",
   "execution_count": null,
   "metadata": {},
   "outputs": [],
   "source": []
  }
 ],
 "metadata": {
  "kernelspec": {
   "display_name": "CALENDAR-ENV",
   "language": "python",
   "name": "python3"
  },
  "language_info": {
   "codemirror_mode": {
    "name": "ipython",
    "version": 3
   },
   "file_extension": ".py",
   "mimetype": "text/x-python",
   "name": "python",
   "nbconvert_exporter": "python",
   "pygments_lexer": "ipython3",
   "version": "3.10.14"
  }
 },
 "nbformat": 4,
 "nbformat_minor": 2
}
